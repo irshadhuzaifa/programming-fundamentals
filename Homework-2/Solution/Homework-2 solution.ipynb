{
 "cells": [
  {
   "cell_type": "code",
   "execution_count": 47,
   "id": "e3fa1940",
   "metadata": {},
   "outputs": [],
   "source": [
    "class Vehicle:\n",
    "    def __init__(self, model_name, make, engine_power, n_wheels):\n",
    "        self.model_name = model_name\n",
    "        self.make = make\n",
    "        self.engine_power = engine_power\n",
    "        self.num_wheels = n_wheels\n",
    "    \n",
    "    def __str__(self):\n",
    "        return f'''Model:\\t{self.model_name}\n",
    "Make:\\t{self.make}\n",
    "# of wheels:\\t {self.num_wheels}\n",
    "'''\n",
    "    \n",
    "    def set_engine_power(self, engine_power):\n",
    "        self.engine_power = engine_power\n",
    "    \n",
    "    def start_engine(self):\n",
    "        print('Engine starts!')"
   ]
  },
  {
   "cell_type": "code",
   "execution_count": 48,
   "id": "c825edd2",
   "metadata": {},
   "outputs": [],
   "source": [
    "class LTV(Vehicle):\n",
    "    def __init__(self, model_name, make, engine_power, n_wheels):\n",
    "        super().__init__(model_name, make, engine_power, n_wheels)\n",
    "    \n",
    "    def __str__(self):\n",
    "        return super().__str__()\n",
    "        "
   ]
  },
  {
   "cell_type": "code",
   "execution_count": 49,
   "id": "79397440",
   "metadata": {},
   "outputs": [],
   "source": [
    "class HTV(Vehicle):\n",
    "    def __init__(self, model_name, make, engine_power, n_wheels):\n",
    "        super().__init__(model_name, make, engine_power, n_wheels)\n",
    "    \n",
    "    def __str__(self):\n",
    "        return super().__str__()"
   ]
  },
  {
   "cell_type": "code",
   "execution_count": 50,
   "id": "7ce09947",
   "metadata": {},
   "outputs": [],
   "source": [
    "class PassengerHTV(HTV):\n",
    "    def __init__(self, model_name, make, engine_power, n_wheels, max_passengers):\n",
    "        super().__init__(model_name, make, engine_power, n_wheels)\n",
    "        self.max_passengers = max_passengers\n",
    "        self.curr_passengers = 0\n",
    "    \n",
    "    def onboard_passenger(self):\n",
    "        if self.curr_passengers + 1 <= self.max_passengers:\n",
    "            self.curr_passengers += 1\n",
    "            return True\n",
    "        return False\n",
    "    \n",
    "    def get_curr_passengers(self):\n",
    "        return self.curr_passengers\n",
    "    \n",
    "    def get_max_passengers(self):\n",
    "        return self.max_passengers\n",
    "    \n",
    "    def __str__(self):\n",
    "        return super().__str__() + f'Max Passengers:\\t{self.max_passengers}\\nCurrent Passengers:\\t{self.curr_passengers}\\n'\n",
    "    "
   ]
  },
  {
   "cell_type": "code",
   "execution_count": 51,
   "id": "1b5c92c8",
   "metadata": {},
   "outputs": [],
   "source": [
    "class Bus(PassengerHTV):\n",
    "    def __init__(self, model_name, make, engine_power, n_wheels, max_passengers):\n",
    "        super().__init__(model_name, make, engine_power, n_wheels, max_passengers)\n",
    "    \n",
    "    def __str__(self):\n",
    "        return super().__str__()"
   ]
  },
  {
   "cell_type": "code",
   "execution_count": 52,
   "id": "1160613c",
   "metadata": {},
   "outputs": [],
   "source": [
    "class CargoHTV(HTV):\n",
    "    def __init__(self, model_name, make, engine_power, n_wheels, capacity):\n",
    "        super().__init__(model_name, make, engine_power, n_wheels)\n",
    "        self.capacity = capacity\n",
    "        self.curr_cargo = 0\n",
    "        \n",
    "    def get_capacity(self):\n",
    "        return capacity\n",
    "    \n",
    "    def get_curr_cargo(self):\n",
    "        return self.curr_cargo\n",
    "    \n",
    "    def load_cargo(self, cargo_weight):\n",
    "        if self.curr_cargo + cargo_weight <= self.capacity:\n",
    "            self.curr_cargo += cargo_weight\n",
    "            return True\n",
    "        return False\n",
    "    \n",
    "    def __str__(self):\n",
    "        return super().__str__() + f'Capacity:\\t{self.capacity}\\nCurrent Cargo:\\t{self.curr_cargo}\\n'"
   ]
  },
  {
   "cell_type": "code",
   "execution_count": 53,
   "id": "76aa16d4",
   "metadata": {},
   "outputs": [],
   "source": [
    "class Truck(CargoHTV):\n",
    "    def __init__(self):\n",
    "        super().__init__(model_name, make, engine_power, n_wheels, capacity)\n",
    "        \n",
    "    def __str__(self):\n",
    "        return super().__str__()"
   ]
  },
  {
   "cell_type": "code",
   "execution_count": 54,
   "id": "bdfe1d35",
   "metadata": {},
   "outputs": [],
   "source": [
    "class Bicycle(LTV):\n",
    "    def __init__(self, model_name, make, engine_power, n_wheels, n_grears, type_str):\n",
    "        super().__init__(model_name, make, engine_power, n_wheels)\n",
    "        self.num_gears = n_grears\n",
    "        self.type_str = type_str\n",
    "    \n",
    "    def get_num_gears(self):\n",
    "        return self.num_gears\n",
    "    \n",
    "    def get_type(self):\n",
    "        return self.type_str\n",
    "    \n",
    "    def __str__(self):\n",
    "        return super().__str__() + f'# of gears:\\t{self.num_gears}\\nType:\\t{self.type_str}'"
   ]
  },
  {
   "cell_type": "code",
   "execution_count": 55,
   "id": "1c54001b",
   "metadata": {},
   "outputs": [],
   "source": [
    "class Car(LTV):\n",
    "    def __init__(self, model_name, make, engine_power, n_wheels, n_doors, category):\n",
    "        super().__init__(model_name, make, engine_power, n_wheels)\n",
    "        self.num_doors = n_doors\n",
    "        self.category = category\n",
    "        \n",
    "    def get_num_doors(self):\n",
    "        return self.num_doors\n",
    "    \n",
    "    def get_category(self):\n",
    "        return self.category\n",
    "    \n",
    "    def __str__(self):\n",
    "        return super().__str__() + f'# of doors:\\t{self.num_doors}\\nCategory:\\t{self.category}\\n'"
   ]
  },
  {
   "cell_type": "code",
   "execution_count": 61,
   "id": "de78e208",
   "metadata": {},
   "outputs": [],
   "source": [
    "class SportsCar(Car):\n",
    "    def __init__(self, model_name, make, engine_power, n_wheels, n_doors, category, top_speed, acceleration):\n",
    "        super().__init__(model_name, make, engine_power, n_wheels, n_doors, category)\n",
    "        self.top_speed = top_speed\n",
    "        self.acceleration = acceleration\n",
    "    \n",
    "    def get_top_speed(self):\n",
    "        return self.top_speed\n",
    "    \n",
    "    def get_acceleration(self):\n",
    "        return self.acceleration\n",
    "    \n",
    "    def __str__(self):\n",
    "        return super().__str__() + f'Top speed:\\t{self.top_speed}\\nAcceleration:\\t{self.acceleration}\\n'"
   ]
  },
  {
   "cell_type": "code",
   "execution_count": 71,
   "id": "3f663a7c",
   "metadata": {},
   "outputs": [],
   "source": [
    "class LuxuryCar(Car):\n",
    "    def __init__(self, model_name, make, engine_power, n_wheels, n_doors, category, comfort_features):\n",
    "        super().__init__(model_name, make, engine_power, n_wheels, n_doors, category)\n",
    "        self.comfort_features_list = comfort_features\n",
    "        \n",
    "    def get_comfort_features(self):\n",
    "        return self.comfort_features\n",
    "    \n",
    "    def __str__(self):\n",
    "        return super().__str__() + f\"Comfort features:\\t{', '.join(self.comfort_features_list)}\\n\""
   ]
  },
  {
   "cell_type": "code",
   "execution_count": 62,
   "id": "06b46612",
   "metadata": {},
   "outputs": [
    {
     "name": "stdout",
     "output_type": "stream",
     "text": [
      "Model:\tCivic\n",
      "Make:\tHonda\n",
      "# of wheels:\t 4\n",
      "# of doors:\t4\n",
      "Category:\tSedan\n",
      "Top speed:\t280\n",
      "Acceleration:\t50\n",
      "\n"
     ]
    }
   ],
   "source": [
    "print(SportsCar('Civic', 'Honda', 1500, 4, 4, 'Sedan', 280, 50))"
   ]
  },
  {
   "cell_type": "code",
   "execution_count": 72,
   "id": "9d06d79a",
   "metadata": {},
   "outputs": [
    {
     "name": "stdout",
     "output_type": "stream",
     "text": [
      "Model:\tCivic\n",
      "Make:\tHonda\n",
      "# of wheels:\t 4\n",
      "# of doors:\t4\n",
      "Category:\tSedan\n",
      "Comfort features:\tSeat Warmer, Stereo Music, Mini Bar\n",
      "\n"
     ]
    }
   ],
   "source": [
    "print(LuxuryCar('Civic', 'Honda', 1500, 4, 4, 'Sedan', ['Seat Warmer', 'Stereo Music', 'Mini Bar']))"
   ]
  },
  {
   "cell_type": "code",
   "execution_count": null,
   "id": "1aa92d40",
   "metadata": {},
   "outputs": [],
   "source": []
  }
 ],
 "metadata": {
  "kernelspec": {
   "display_name": "Python 3 (ipykernel)",
   "language": "python",
   "name": "python3"
  },
  "language_info": {
   "codemirror_mode": {
    "name": "ipython",
    "version": 3
   },
   "file_extension": ".py",
   "mimetype": "text/x-python",
   "name": "python",
   "nbconvert_exporter": "python",
   "pygments_lexer": "ipython3",
   "version": "3.9.18"
  }
 },
 "nbformat": 4,
 "nbformat_minor": 5
}
