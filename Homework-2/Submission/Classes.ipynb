{
 "cells": [
  {
   "cell_type": "code",
   "execution_count": 19,
   "id": "2f84361a",
   "metadata": {},
   "outputs": [
    {
     "name": "stdout",
     "output_type": "stream",
     "text": [
      "Vehicle Type: LTV\n"
     ]
    }
   ],
   "source": [
    "class Vehicle:\n",
    "    def __init__(self, num_wheel):\n",
    "        self.num_wheel = num_wheel\n",
    "        \n",
    "    def __str__(self):\n",
    "        return f\"Vehicle Type: {self.veh_type()}\"\n",
    "\n",
    "    def veh_type(self):\n",
    "        if self.num_wheel > 4:\n",
    "            return \"HTV\"   \n",
    "        else: return \"LTV\"\n",
    "        \n",
    "my_veh = Vehicle(3)\n",
    "print(my_veh)"
   ]
  },
  {
   "cell_type": "code",
   "execution_count": 20,
   "id": "3959dd0a",
   "metadata": {},
   "outputs": [
    {
     "name": "stdout",
     "output_type": "stream",
     "text": [
      "HTV Type: Passenger HTV\n"
     ]
    }
   ],
   "source": [
    "class HTV(Vehicle):\n",
    "    \n",
    "    def __init__(self, num_wheel, cap_type):\n",
    "        super().__init__(num_wheel)\n",
    "        self.cap_type = cap_type\n",
    "        \n",
    "    def __str__(self):\n",
    "        return f\"HTV Type: {self.htv_type()}\"\n",
    "    \n",
    "    def htv_type(self):\n",
    "        if self.cap_type == \"Passengers\":\n",
    "            return \"Passenger HTV\"\n",
    "        else: return \"Cargo HTV\"\n",
    "        \n",
    "my_htv = HTV(7, \"Passengers\")    \n",
    "print(my_htv)"
   ]
  },
  {
   "cell_type": "code",
   "execution_count": 21,
   "id": "0b5e1935",
   "metadata": {},
   "outputs": [
    {
     "name": "stdout",
     "output_type": "stream",
     "text": [
      "Passenger HTV with overloaded passengers\n"
     ]
    }
   ],
   "source": [
    "class PassengerHTV(HTV):\n",
    "    \n",
    "    def __init__(self, max_passenger, onboard):\n",
    "        self.max_passenger = max_passenger\n",
    "        self.onboard = onboard\n",
    "    \n",
    "    def __str__(self):\n",
    "        return f\"Passenger HTV with {self.passenger_onboard()} passengers\"\n",
    "\n",
    "    def passenger_onboard(self):\n",
    "        if self.onboard == self.max_passenger:\n",
    "            return \"full\"\n",
    "        elif self.onboard > self.max_passenger:\n",
    "            return \"overloaded\"\n",
    "        elif self.onboard < self.max_passenger:\n",
    "            return f\"{round ( (self.onboard / self.max_passenger) * 100, 2)}%\"\n",
    "    \n",
    "\n",
    "my_pas_htv = PassengerHTV(24,56)\n",
    "print(my_pas_htv)"
   ]
  },
  {
   "cell_type": "code",
   "execution_count": 22,
   "id": "6c8caa57",
   "metadata": {},
   "outputs": [
    {
     "name": "stdout",
     "output_type": "stream",
     "text": [
      "Passenger HTV with 87.5% passengers\n"
     ]
    }
   ],
   "source": [
    "class Bus(PassengerHTV):\n",
    "    \n",
    "    def occupancy(self):\n",
    "        super().occupancy()    \n",
    "        \n",
    "my_Bus = Bus(8,7)\n",
    "print(my_Bus)"
   ]
  },
  {
   "cell_type": "code",
   "execution_count": 23,
   "id": "41220890",
   "metadata": {},
   "outputs": [
    {
     "name": "stdout",
     "output_type": "stream",
     "text": [
      "Cargo HTV with 81.82% weight\n"
     ]
    }
   ],
   "source": [
    "class CargoHTV(HTV):\n",
    "    \n",
    "    def __init__(self, max_cargo, loaded):\n",
    "        super().__init__(num_wheel=6, cap_type=\"Passengers\")\n",
    "        self.max_cargo = max_cargo\n",
    "        self.loaded = loaded\n",
    "        \n",
    "    def __str__(self):\n",
    "        return f\"Cargo HTV with {self.cargo_loaded()} weight\"\n",
    "    \n",
    "    def cargo_loaded(self):\n",
    "        if self.loaded == self.max_cargo:\n",
    "            return \"full\"\n",
    "        elif self.loaded > self.max_cargo:\n",
    "            return \"overloaded\"\n",
    "        elif self.loaded < self.max_cargo:\n",
    "            return f\"{round ( (self.loaded / self.max_cargo) * 100, 2)}%\"\n",
    "    \n",
    "    \n",
    "my_cargo_htv = CargoHTV(11, 9)\n",
    "print(my_cargo_htv)"
   ]
  },
  {
   "cell_type": "code",
   "execution_count": 24,
   "id": "45d660e7",
   "metadata": {},
   "outputs": [
    {
     "name": "stdout",
     "output_type": "stream",
     "text": [
      "Cargo HTV with 77.78% weight\n"
     ]
    }
   ],
   "source": [
    "class Truck(CargoHTV):\n",
    "    \n",
    "    def load(self):\n",
    "        super().load()\n",
    "        \n",
    "my_Truck = Truck(9,7)\n",
    "print(my_Truck)"
   ]
  },
  {
   "cell_type": "code",
   "execution_count": 25,
   "id": "a7b90766",
   "metadata": {},
   "outputs": [
    {
     "name": "stdout",
     "output_type": "stream",
     "text": [
      "LTV Type: Car\n"
     ]
    }
   ],
   "source": [
    "class LTV(Vehicle):\n",
    "    \n",
    "    def __init__(self, num_wheel):\n",
    "        super().__init__(num_wheel)\n",
    "        self.no_of_wheels = num_wheel\n",
    "        \n",
    "    def __str__(self):\n",
    "        return f\"LTV Type: {self.LTV_type()}\"\n",
    "    \n",
    "    def LTV_type(self):\n",
    "        if self.no_of_wheels >= 4:\n",
    "            return \"Car\"\n",
    "        else: return \"Bicycle\"\n",
    "        \n",
    "my_htv = LTV(8)\n",
    "print(my_htv)\n"
   ]
  },
  {
   "cell_type": "code",
   "execution_count": 26,
   "id": "9c8763c9",
   "metadata": {},
   "outputs": [
    {
     "name": "stdout",
     "output_type": "stream",
     "text": [
      "Car Type: Sudan, Doors: 5, Wheels: 6\n"
     ]
    }
   ],
   "source": [
    "class Car(LTV):\n",
    "    \n",
    "    def __init__(self,car_type, no_of_doors, no_wheels):\n",
    "        self.car_type = car_type\n",
    "        self.no_of_doors = no_of_doors\n",
    "        self.no_wheels = no_wheels\n",
    "        \n",
    "    def __str__(self):\n",
    "        return f\"Car Type: {self.Car_Type()}, Doors: {self.Num_Doors()}, Wheels: {self.Num_Wheels()}\"\n",
    "    \n",
    "    def Car_Type(self):\n",
    "        return self.car_type\n",
    "    \n",
    "    def Num_Doors(self):\n",
    "        return self.no_of_doors\n",
    "    \n",
    "    def Num_Wheels(self):\n",
    "        return self.no_wheels\n",
    "    \n",
    "my_car = Car(\"Sudan\", 5, 6)\n",
    "print(my_car)"
   ]
  },
  {
   "cell_type": "code",
   "execution_count": 27,
   "id": "6742c156",
   "metadata": {},
   "outputs": [
    {
     "name": "stdout",
     "output_type": "stream",
     "text": [
      "Bike Type: Mountain, Gears: 5\n"
     ]
    }
   ],
   "source": [
    "class Bicycle(LTV):\n",
    "    \n",
    "    def __init__(self,bike_type, no_of_gears):\n",
    "        self.bike_type = bike_type\n",
    "        self.no_of_gears = no_of_gears\n",
    "    \n",
    "    def __str__(self):\n",
    "        return f\"Bike Type: {self.Bike_Type()}, Gears: {self.Num_Gears()}\"\n",
    "    \n",
    "    def Bike_Type(self):\n",
    "        return self.bike_type\n",
    "    \n",
    "    def Num_Gears(self):\n",
    "        return self.no_of_gears\n",
    "    \n",
    "my_bike = Bicycle(\"Mountain\", 5)\n",
    "print(my_bike)"
   ]
  },
  {
   "cell_type": "code",
   "execution_count": 28,
   "id": "2d95cff8",
   "metadata": {},
   "outputs": [
    {
     "name": "stdout",
     "output_type": "stream",
     "text": [
      "Top Speed: 120 Km per Second, Acceleration: 60 Km per Second square\n"
     ]
    }
   ],
   "source": [
    "class SportsCar(Car):\n",
    "    \n",
    "    def __init__(self, top_speed, acceleration):\n",
    "        self.top_speed = top_speed\n",
    "        self.acceleration = acceleration\n",
    "        \n",
    "    def __str__(self):\n",
    "        return f\"Top Speed: {self.Top_Speed()} Km per Second, Acceleration: {self.Acceleration()} Km per Second square\"\n",
    "    \n",
    "    def Top_Speed(self):\n",
    "        return self.top_speed\n",
    "    \n",
    "    def Acceleration(self):\n",
    "        return self.acceleration\n",
    "    \n",
    "    \n",
    "my_sportscar = SportsCar(120, 60)\n",
    "print(my_sportscar)"
   ]
  },
  {
   "cell_type": "code",
   "execution_count": 31,
   "id": "189ebd36",
   "metadata": {},
   "outputs": [
    {
     "name": "stdout",
     "output_type": "stream",
     "text": [
      "Comfort Features are ['Sunroof', 'Massage Seats']\n"
     ]
    }
   ],
   "source": [
    "class LuxuryCar(Car):\n",
    "    \n",
    "    def __init__(self, *feature):\n",
    "        self.comfort_feature = list(feature)\n",
    "        \n",
    "    def __str__(self):\n",
    "        return f\"Comfort Features are {str(self.comfort_feature)}\"\n",
    "        \n",
    "    def add_feature(self, value):\n",
    "        self.comfort_feature.append(feature)\n",
    "        \n",
    "my_luxurycar = LuxuryCar(\"Sunroof\", \"Massage Seats\")\n",
    "print(my_luxurycar)"
   ]
  },
  {
   "cell_type": "code",
   "execution_count": null,
   "id": "6d108e0d",
   "metadata": {},
   "outputs": [],
   "source": []
  },
  {
   "cell_type": "code",
   "execution_count": null,
   "id": "fc4c7bdf",
   "metadata": {},
   "outputs": [],
   "source": []
  }
 ],
 "metadata": {
  "kernelspec": {
   "display_name": "Python 3 (ipykernel)",
   "language": "python",
   "name": "python3"
  },
  "language_info": {
   "codemirror_mode": {
    "name": "ipython",
    "version": 3
   },
   "file_extension": ".py",
   "mimetype": "text/x-python",
   "name": "python",
   "nbconvert_exporter": "python",
   "pygments_lexer": "ipython3",
   "version": "3.11.5"
  }
 },
 "nbformat": 4,
 "nbformat_minor": 5
}
