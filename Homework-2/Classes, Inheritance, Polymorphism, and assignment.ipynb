{
 "cells": [
  {
   "cell_type": "markdown",
   "id": "c733eb99",
   "metadata": {},
   "source": [
    "# Built-in Data-Types in Python"
   ]
  },
  {
   "cell_type": "code",
   "execution_count": 5,
   "id": "2409829e",
   "metadata": {},
   "outputs": [],
   "source": [
    "var1 = 'abc'\n",
    "var2 = 20\n",
    "var3 = 0.95\n",
    "var4 = False\n",
    "var5 = None\n",
    "var6 = [1,2,3,6,7]"
   ]
  },
  {
   "cell_type": "code",
   "execution_count": 7,
   "id": "385525ea",
   "metadata": {},
   "outputs": [
    {
     "data": {
      "text/plain": [
       "(str, int, float, bool, NoneType, list)"
      ]
     },
     "execution_count": 7,
     "metadata": {},
     "output_type": "execute_result"
    }
   ],
   "source": [
    "type(var1), type(var2), type(var3), type(var4), type(var5), type(var6)"
   ]
  },
  {
   "cell_type": "code",
   "execution_count": 8,
   "id": "0fd1eb9e",
   "metadata": {},
   "outputs": [],
   "source": [
    "def mul2(n):\n",
    "    return n * 2"
   ]
  },
  {
   "cell_type": "code",
   "execution_count": 10,
   "id": "95463ecd",
   "metadata": {},
   "outputs": [
    {
     "data": {
      "text/plain": [
       "function"
      ]
     },
     "execution_count": 10,
     "metadata": {},
     "output_type": "execute_result"
    }
   ],
   "source": [
    "type(mul2)"
   ]
  },
  {
   "cell_type": "markdown",
   "id": "b5c79af2",
   "metadata": {},
   "source": [
    "# Classes\n",
    "\n",
    "#### Definition\n",
    "    Developer/user defined data-types defined using built-in data-types of the programming language in question, in our case, Python."
   ]
  },
  {
   "cell_type": "markdown",
   "id": "97750589",
   "metadata": {},
   "source": [
    "### Example 1: Person class"
   ]
  },
  {
   "cell_type": "code",
   "execution_count": 22,
   "id": "99d53a79",
   "metadata": {},
   "outputs": [],
   "source": [
    "class Person:\n",
    "    \n",
    "    def __init__(self, name, age, is_tall):\n",
    "        self.name = name\n",
    "        if age > 0:\n",
    "            self.age = age\n",
    "        else:\n",
    "            self.age = 18\n",
    "        self.is_tall = is_tall\n",
    "        \n",
    "    def __str__(self):\n",
    "        return f'name: {self.name}, age: {self.age}, is_tall: {self.is_tall}'\n",
    "    \n",
    "    def change_is_tall(self):\n",
    "        self.is_tall = not self.is_tall"
   ]
  },
  {
   "cell_type": "code",
   "execution_count": 23,
   "id": "7fcd7b14",
   "metadata": {},
   "outputs": [],
   "source": [
    "p1 = Person('huzaifa', 25, False)"
   ]
  },
  {
   "cell_type": "code",
   "execution_count": 24,
   "id": "5a9536ca",
   "metadata": {},
   "outputs": [
    {
     "name": "stdout",
     "output_type": "stream",
     "text": [
      "name: huzaifa, age: 25, is_tall: False\n"
     ]
    }
   ],
   "source": [
    "print(p1)"
   ]
  },
  {
   "cell_type": "code",
   "execution_count": 25,
   "id": "ac8ef65e",
   "metadata": {},
   "outputs": [],
   "source": [
    "p1.change_is_tall()"
   ]
  },
  {
   "cell_type": "code",
   "execution_count": 26,
   "id": "ac41fcf0",
   "metadata": {},
   "outputs": [
    {
     "name": "stdout",
     "output_type": "stream",
     "text": [
      "name: huzaifa, age: 25, is_tall: True\n"
     ]
    }
   ],
   "source": [
    "print(p1)"
   ]
  },
  {
   "cell_type": "markdown",
   "id": "00c91e04",
   "metadata": {},
   "source": [
    "## Example 2: Vehicles"
   ]
  },
  {
   "cell_type": "markdown",
   "id": "55bf1fd0",
   "metadata": {},
   "source": [
    "### Approach 1: using single Vehicle class"
   ]
  },
  {
   "cell_type": "code",
   "execution_count": 27,
   "id": "4642e421",
   "metadata": {},
   "outputs": [],
   "source": [
    "class Vehicle:\n",
    "    def __init__(self, model_name, vehicle_type, make, engine_power):\n",
    "        self.model_name = model_name\n",
    "        self.vehicle_type = vehicle_type\n",
    "        self.make = make\n",
    "        self.engine_power = engine_power\n",
    "    \n",
    "    def __str__(self):\n",
    "        pass # implement as done for Person class\n",
    "    \n",
    "    def set_engine_power(self, engine_power):\n",
    "        self.engine_power = engine_power\n",
    "    \n",
    "    def start_engine(self):\n",
    "        if self.vehicle_type == 'bike':\n",
    "            print('Kick! Pull clutch handle and accelerate!')\n",
    "        elif self.vehicle_type == 'car':\n",
    "            print('Insert Key! Ignotion! Hold down clutch paddle and accelerate!')\n",
    "        elif self.vehicle_type == 'cycle':\n",
    "            print('Sit and paddle!')"
   ]
  },
  {
   "cell_type": "code",
   "execution_count": 29,
   "id": "bec99fd2",
   "metadata": {},
   "outputs": [],
   "source": [
    "v1 = Vehicle('150 R', 'bike', 'Suzuki', 1000)"
   ]
  },
  {
   "cell_type": "code",
   "execution_count": 30,
   "id": "37446fb8",
   "metadata": {},
   "outputs": [
    {
     "name": "stdout",
     "output_type": "stream",
     "text": [
      "Kick! Pull clutch handle and accelerate!\n"
     ]
    }
   ],
   "source": [
    "v1.start_engine()"
   ]
  },
  {
   "cell_type": "code",
   "execution_count": 31,
   "id": "07d69577",
   "metadata": {},
   "outputs": [],
   "source": [
    "v2 = Vehicle('Civic 2020', 'car', 'Honda', 1800)"
   ]
  },
  {
   "cell_type": "code",
   "execution_count": 32,
   "id": "a23ea9c4",
   "metadata": {},
   "outputs": [
    {
     "name": "stdout",
     "output_type": "stream",
     "text": [
      "Insert Key! Ignotion! Hold down clutch paddle and accelerate!\n"
     ]
    }
   ],
   "source": [
    "v2.start_engine()"
   ]
  },
  {
   "cell_type": "code",
   "execution_count": 33,
   "id": "86e2a401",
   "metadata": {},
   "outputs": [],
   "source": [
    "v3 = Vehicle('Yo mama', 'cruiseship', 'Freeons', 800)"
   ]
  },
  {
   "cell_type": "code",
   "execution_count": 34,
   "id": "712a48a3",
   "metadata": {},
   "outputs": [],
   "source": [
    "v3.start_engine()"
   ]
  },
  {
   "cell_type": "code",
   "execution_count": 35,
   "id": "a2d3e3a6",
   "metadata": {},
   "outputs": [],
   "source": [
    "v4 = Vehicle('US', 'submarine', 'US Navy 14', 1200)"
   ]
  },
  {
   "cell_type": "code",
   "execution_count": 36,
   "id": "86f502c4",
   "metadata": {},
   "outputs": [],
   "source": [
    "v4.start_engine()"
   ]
  },
  {
   "cell_type": "markdown",
   "id": "a0094379",
   "metadata": {},
   "source": [
    "#### Problem(s): We have to handle each vehicle type in all member-functions of vehicles e.g. start_engine, gear_change, and so on"
   ]
  },
  {
   "cell_type": "markdown",
   "id": "80d47eb4",
   "metadata": {},
   "source": [
    "### Approach 2: separate class for each vehicle"
   ]
  },
  {
   "cell_type": "code",
   "execution_count": 37,
   "id": "704ca85a",
   "metadata": {},
   "outputs": [],
   "source": [
    "class Bike:\n",
    "    def __init__(self, model_name, make, engine_power):\n",
    "        self.model_name = model_name\n",
    "        self.make = make\n",
    "        self.engine_power = engine_power\n",
    "    \n",
    "    def __str__(self):\n",
    "        pass # implement as done for Person class\n",
    "    \n",
    "    def set_engine_power(self, engine_power):\n",
    "        self.engine_power = engine_power\n",
    "    \n",
    "    def start_engine(self):\n",
    "        print('Kick! Pull clutch handle and accelerate!')"
   ]
  },
  {
   "cell_type": "code",
   "execution_count": 38,
   "id": "8f33627f",
   "metadata": {},
   "outputs": [],
   "source": [
    "class Car:\n",
    "    def __init__(self, model_name, make, engine_power):\n",
    "        self.model_name = model_name\n",
    "        self.make = make\n",
    "        self.engine_power = engine_power\n",
    "    \n",
    "    def __str__(self):\n",
    "        pass # implement as done for Person class\n",
    "    \n",
    "    def set_engine_power(self, engine_power):\n",
    "        self.engine_power = engine_power\n",
    "    \n",
    "    def start_engine(self):\n",
    "        print('Insert Key! Ignotion! Hold down clutch paddle and accelerate!')"
   ]
  },
  {
   "cell_type": "code",
   "execution_count": 39,
   "id": "56eba136",
   "metadata": {},
   "outputs": [],
   "source": [
    "class Cycle:\n",
    "    def __init__(self, model_name, make, engine_power):\n",
    "        self.model_name = model_name\n",
    "        self.make = make\n",
    "        self.engine_power = engine_power\n",
    "    \n",
    "    def __str__(self):\n",
    "        pass # implement as done for Person class\n",
    "    \n",
    "    def set_engine_power(self, engine_power):\n",
    "        self.engine_power = engine_power\n",
    "    \n",
    "    def start_engine(self):\n",
    "        print('Sit and Paddle!')"
   ]
  },
  {
   "cell_type": "markdown",
   "id": "83700985",
   "metadata": {},
   "source": [
    "#### Problem(s): \n",
    " A lot of code is repeated, that is common for different vehicles:\n",
    "   - the attributes/data-members 'model_name', 'make', 'engine_power' of classes Car, Bike, Cycle\n",
    "   - the member-function(s)/method(s) 'start_engine' of classes Car, Bike, Cycle"
   ]
  },
  {
   "cell_type": "markdown",
   "id": "587b2095",
   "metadata": {},
   "source": [
    "### Approach 3: Defining class hierarchies with Inheritance"
   ]
  },
  {
   "cell_type": "markdown",
   "id": "ad11ffff",
   "metadata": {},
   "source": [
    "#### Uses of inheritance:\n",
    "   - reusing code\n",
    "   - defining problem as hierarchy of entities/classes and their operations/relationships between them "
   ]
  },
  {
   "cell_type": "code",
   "execution_count": 40,
   "id": "7435b5b1",
   "metadata": {},
   "outputs": [],
   "source": [
    "class Vehicle:\n",
    "    def __init__(self, model_name, make, engine_power):\n",
    "        self.model_name = model_name\n",
    "        self.make = make\n",
    "        self.engine_power = engine_power\n",
    "    \n",
    "    def __str__(self):\n",
    "        pass # implement as done for Person class\n",
    "    \n",
    "    def set_engine_power(self, engine_power):\n",
    "        self.engine_power = engine_power"
   ]
  },
  {
   "cell_type": "code",
   "execution_count": 42,
   "id": "3c1e44c1",
   "metadata": {},
   "outputs": [],
   "source": [
    "class Car(Vehicle):\n",
    "    def start_engine(self):\n",
    "        print('Insert Key! Ignotion! Hold down clutch paddle and accelerate!')"
   ]
  },
  {
   "cell_type": "code",
   "execution_count": 48,
   "id": "b24a9ad0",
   "metadata": {},
   "outputs": [],
   "source": [
    "class Bike(Vehicle):\n",
    "    def start_engine(self):\n",
    "        print('Kick! Pull clutch handle and accelerate!')"
   ]
  },
  {
   "cell_type": "code",
   "execution_count": 49,
   "id": "6c654740",
   "metadata": {},
   "outputs": [],
   "source": [
    "class Cycle(Vehicle):\n",
    "    def start_engine(self):\n",
    "        print('Sit and Paddle!')"
   ]
  },
  {
   "cell_type": "code",
   "execution_count": 50,
   "id": "0981a3e0",
   "metadata": {},
   "outputs": [],
   "source": [
    "v1 = Car('Civic 2020', 'Honda', 1800)"
   ]
  },
  {
   "cell_type": "code",
   "execution_count": 51,
   "id": "9969189a",
   "metadata": {},
   "outputs": [
    {
     "name": "stdout",
     "output_type": "stream",
     "text": [
      "Insert Key! Ignotion! Hold down clutch paddle and accelerate!\n"
     ]
    }
   ],
   "source": [
    "v1.start_engine()"
   ]
  },
  {
   "cell_type": "code",
   "execution_count": 52,
   "id": "99d86de6",
   "metadata": {},
   "outputs": [],
   "source": [
    "v2 = Cycle('2019 v1', 'Sohrab', 100)"
   ]
  },
  {
   "cell_type": "code",
   "execution_count": 53,
   "id": "91815211",
   "metadata": {},
   "outputs": [
    {
     "name": "stdout",
     "output_type": "stream",
     "text": [
      "Sit and Paddle!\n"
     ]
    }
   ],
   "source": [
    "v2.start_engine()"
   ]
  },
  {
   "cell_type": "code",
   "execution_count": 58,
   "id": "3d290ea2",
   "metadata": {},
   "outputs": [
    {
     "data": {
      "text/plain": [
       "__main__.Cycle"
      ]
     },
     "execution_count": 58,
     "metadata": {},
     "output_type": "execute_result"
    }
   ],
   "source": [
    "type(v2)"
   ]
  },
  {
   "cell_type": "code",
   "execution_count": 55,
   "id": "64b46795",
   "metadata": {},
   "outputs": [
    {
     "data": {
      "text/plain": [
       "True"
      ]
     },
     "execution_count": 55,
     "metadata": {},
     "output_type": "execute_result"
    }
   ],
   "source": [
    "issubclass(Car, Vehicle)"
   ]
  },
  {
   "cell_type": "code",
   "execution_count": 57,
   "id": "32454cd4",
   "metadata": {},
   "outputs": [],
   "source": [
    "class RanaTigrina:\n",
    "    pass"
   ]
  },
  {
   "cell_type": "markdown",
   "id": "6a6c0021",
   "metadata": {},
   "source": [
    "#### PS: Write class names in Pascal Case, meaning each word in the class name has its first letter capital e.g. a class of Rana Tigrina will be named 'RanaTigrina'"
   ]
  },
  {
   "cell_type": "markdown",
   "id": "5196571e",
   "metadata": {},
   "source": [
    "### Polymorphism in Classes"
   ]
  },
  {
   "cell_type": "markdown",
   "id": "0fa86c19",
   "metadata": {},
   "source": [
    "#### 'Polymorphism' means many-forms; in programming, classes are polymorphic when they have data members or members-functions that behave differently depending on which class's function/data-member is accessed during execution of code."
   ]
  },
  {
   "cell_type": "code",
   "execution_count": 60,
   "id": "d5e4f7be",
   "metadata": {},
   "outputs": [],
   "source": [
    "class Vehicle:\n",
    "    def __init__(self, model_name, make, engine_power):\n",
    "        self.model_name = model_name\n",
    "        self.make = make\n",
    "        self.engine_power = engine_power\n",
    "    \n",
    "    def __str__(self):\n",
    "        pass # implement as done for Person class\n",
    "    \n",
    "    def set_engine_power(self, engine_power):\n",
    "        self.engine_power = engine_power\n",
    "    \n",
    "    def start_engine(self):\n",
    "        print('Engine starts!')"
   ]
  },
  {
   "cell_type": "code",
   "execution_count": 77,
   "id": "c8210718",
   "metadata": {},
   "outputs": [],
   "source": [
    "class Car(Vehicle):\n",
    "    def start_engine(self):\n",
    "        super().start_engine()  #  calls start_engine() function of parent class\n",
    "        print('Insert Key! Ignotion! Hold down clutch paddle and accelerate!')"
   ]
  },
  {
   "cell_type": "code",
   "execution_count": 62,
   "id": "7ca4205b",
   "metadata": {},
   "outputs": [],
   "source": [
    "class Bike(Vehicle):\n",
    "    def start_engine(self):\n",
    "        print('Kick! Pull clutch handle and accelerate!')"
   ]
  },
  {
   "cell_type": "code",
   "execution_count": 63,
   "id": "d45474d9",
   "metadata": {},
   "outputs": [],
   "source": [
    "class Cycle(Vehicle):\n",
    "    def start_engine(self):\n",
    "        print('Sit and Paddle!')"
   ]
  },
  {
   "cell_type": "code",
   "execution_count": 64,
   "id": "35f61549",
   "metadata": {},
   "outputs": [],
   "source": [
    "class Submarine(Vehicle):\n",
    "    pass"
   ]
  },
  {
   "cell_type": "code",
   "execution_count": 75,
   "id": "113d7078",
   "metadata": {},
   "outputs": [],
   "source": [
    "v1 = Car('Civic 2020', 'Honda', 1800)"
   ]
  },
  {
   "cell_type": "code",
   "execution_count": 76,
   "id": "22d011a2",
   "metadata": {},
   "outputs": [
    {
     "name": "stdout",
     "output_type": "stream",
     "text": [
      "Engine starts!\n",
      "Insert Key! Ignotion! Hold down clutch paddle and accelerate!\n"
     ]
    }
   ],
   "source": [
    "v1.start_engine()"
   ]
  },
  {
   "cell_type": "code",
   "execution_count": 67,
   "id": "0a580c6d",
   "metadata": {},
   "outputs": [],
   "source": [
    "v2 = Cycle('2019 v1', 'Sohrab', 100)"
   ]
  },
  {
   "cell_type": "code",
   "execution_count": 68,
   "id": "6f817c76",
   "metadata": {},
   "outputs": [
    {
     "name": "stdout",
     "output_type": "stream",
     "text": [
      "Sit and Paddle!\n"
     ]
    }
   ],
   "source": [
    "v2.start_engine()"
   ]
  },
  {
   "cell_type": "code",
   "execution_count": 70,
   "id": "4a28dca5",
   "metadata": {},
   "outputs": [],
   "source": [
    "v3 = Submarine('US Navy Special Edition', 'US', 2000)"
   ]
  },
  {
   "cell_type": "code",
   "execution_count": 73,
   "id": "c2fbfe3c",
   "metadata": {},
   "outputs": [
    {
     "name": "stdout",
     "output_type": "stream",
     "text": [
      "Engine starts!\n"
     ]
    }
   ],
   "source": [
    "v3.start_engine()"
   ]
  },
  {
   "cell_type": "markdown",
   "id": "d85a29f9",
   "metadata": {},
   "source": [
    "## Extracting abstractions (and in turn, classes) from word description."
   ]
  },
  {
   "cell_type": "markdown",
   "id": "9ef1b7d5",
   "metadata": {},
   "source": [
    "### Lets take our vehicles example for instance:"
   ]
  },
  {
   "cell_type": "markdown",
   "id": "765e35e3",
   "metadata": {},
   "source": [
    "A Vehicle ***has-a*** model name, ***has-a*** make, and ***has-an*** engine power. These are are examples of the principle of ***'containment'***, as a Vehicle contains (or is composed of) these properties."
   ]
  },
  {
   "cell_type": "markdown",
   "id": "36f8e3a0",
   "metadata": {},
   "source": [
    "A vehicle ***starts*** its engine. A bike ***paddles***. You ***drive*** a car. We ***can change*** engine-power of vehicle. We can ***start engine*** of vehicles. These are all examples of actions/verbs that can be performed on different vehicles, so, we captured them in member functions/methods: start_engine() and set_engine_power()."
   ]
  },
  {
   "cell_type": "markdown",
   "id": "49b2976a",
   "metadata": {},
   "source": [
    "A car ***is a*** vehicle. A bike ***is*** also ***a*** vehicle. So ***are*** cycle and submarines. These are examples of ***inheritance***, or ***is-a*** relationships."
   ]
  },
  {
   "cell_type": "markdown",
   "id": "d40eafdf",
   "metadata": {},
   "source": [
    "#### Rule of Thumb: Nouns correspond to classes, verbs or actions correspond to class methods/functions, and 'has-a' relationships are translated to containment (within class or some other structure), and 'is-a' relationships are mapped to class inheritance heirarchies"
   ]
  },
  {
   "cell_type": "markdown",
   "id": "86dca682",
   "metadata": {},
   "source": [
    "## Assignment Description"
   ]
  },
  {
   "cell_type": "markdown",
   "id": "b933279f",
   "metadata": {},
   "source": [
    "Lets start with our good old Vehicle example and take it up a notch!"
   ]
  },
  {
   "cell_type": "markdown",
   "id": "395249dd",
   "metadata": {},
   "source": [
    "In addition to the above a vehicle ***can have*** _different number of wheels_. A vehicle ***is of 2 main types***: HTV and LTV, in other words, HTVs are vehicles, and so are LTVs.\n",
    "\n",
    "Now HTVs are further ***divided into 2 types***: passenger HTVs and cargo HTVs; passenger HTVs ***have*** _record of how many passengers there are on it_, _maximum allowed passengers_, and _can onboard a passenger as long as they're within capacity_; bus ***is a*** passenger HTV, and it ***has*** _a certain number of seats_ and _can reserve a seat_; cargo HTVs ***have*** a _cargo capacity in tons_, they _can load cargo onto themselves, but can't exceed maximum capacity_. A truck ***is*** a cargo vehicle that _can have towing capacity in tons, or not_.\n",
    "\n",
    "Now LTVs are ***further divided into 2 categories***: bicycles and cars. bicycles ***can have*** a _certain number of gears_ and _a type string_ e.g. mountain bike, road bike etc.; cars ***can have*** a _certain number of doors_, _certain number of wheels_, and _cat type_ e.g. hatchback, sedan, SUV etc. Cars are further ***divided into 2 types***: sports cars and luxury cars; sports cars ***have a*** _top speed_ and _acceleration_; luxury cars ***have*** a _list of comfort features_ e.g. massage seats, advanced entertainment systems etc."
   ]
  },
  {
   "cell_type": "markdown",
   "id": "80b8e333",
   "metadata": {},
   "source": [
    "### Task\n",
    "\n",
    "Your task is to create classes and their class hierarchy diagram (on paper) and push the code on GitHub in repo programming-fundamentals/Homework-2/Submission. Above, the relationships i.e. containment and inheritance, have been bolded, and their properties/attributues and actions have been italicized; decide which bolded are containment or inheritance, and which italicized are properties/attributes or member-functions/methods."
   ]
  },
  {
   "cell_type": "markdown",
   "id": "10e6a689",
   "metadata": {},
   "source": [
    "**Guidelines for member-functions/methods:**\n",
    "- Think about how these vehicles might interact in different scenarios.\n",
    "- Implement methods in each class to simulate relevant actions (e.g., boarding passengers, loading cargo).\n",
    "- Include a method in each class to display information about the vehicle.\n",
    "\n",
    "**Guidelines for Sample code/objects:**\n",
    "\n",
    "- Create instances of each class and simulate a transportation scenario where different vehicles are used for various tasks.\n",
    "\n",
    "**Submission:**\n",
    "\n",
    "- Submit a IPython notebook file (.ipynb) with your class definitions, simulation code, and comments explaining your design choices."
   ]
  },
  {
   "cell_type": "markdown",
   "id": "6c1e222a",
   "metadata": {},
   "source": [
    "#### PS: Feel free to extend the model with additional attributes or methods that you think would enhance the representation of each type of vehicle in a diverse transportation network."
   ]
  }
 ],
 "metadata": {
  "kernelspec": {
   "display_name": "Python 3 (ipykernel)",
   "language": "python",
   "name": "python3"
  },
  "language_info": {
   "codemirror_mode": {
    "name": "ipython",
    "version": 3
   },
   "file_extension": ".py",
   "mimetype": "text/x-python",
   "name": "python",
   "nbconvert_exporter": "python",
   "pygments_lexer": "ipython3",
   "version": "3.9.18"
  }
 },
 "nbformat": 4,
 "nbformat_minor": 5
}
