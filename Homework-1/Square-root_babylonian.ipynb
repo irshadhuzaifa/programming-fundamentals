{
 "cells": [
  {
   "cell_type": "code",
   "execution_count": 7,
   "id": "98f9d7fe",
   "metadata": {},
   "outputs": [
    {
     "name": "stdout",
     "output_type": "stream",
     "text": [
      "Hello\n",
      "25.2\n",
      "13.0\n",
      "7.269230769230769\n",
      "5.01027676027676\n",
      "4.501036107641883\n",
      "4.47222873572859\n",
      "4.472135955961992\n",
      "4.47213595499958\n"
     ]
    }
   ],
   "source": [
    "Xo = 50\n",
    "print(\"Hello\")\n",
    "num=20\n",
    "S=num\n",
    "X1=(Xo+S/Xo)/2\n",
    "Xn=round(X1,2)\n",
    "print (Xn)\n",
    "Xm=(Xn+S/Xn)/2\n",
    "Xn=round(Xm,2)\n",
    "Xm1=(Xn+S/Xn)/2\n",
    "print (Xn)\n",
    "while Xm!=Xm1:\n",
    "    Xm=(Xn+S/Xn)/2\n",
    "    Xn=Xm\n",
    "    Xm1=(Xn+S/Xn)/2\n",
    "    print(Xn)"
   ]
  },
  {
   "cell_type": "code",
   "execution_count": null,
   "id": "e3a51333",
   "metadata": {},
   "outputs": [],
   "source": []
  }
 ],
 "metadata": {
  "kernelspec": {
   "display_name": "Python 3 (ipykernel)",
   "language": "python",
   "name": "python3"
  },
  "language_info": {
   "codemirror_mode": {
    "name": "ipython",
    "version": 3
   },
   "file_extension": ".py",
   "mimetype": "text/x-python",
   "name": "python",
   "nbconvert_exporter": "python",
   "pygments_lexer": "ipython3",
   "version": "3.11.5"
  }
 },
 "nbformat": 4,
 "nbformat_minor": 5
}
