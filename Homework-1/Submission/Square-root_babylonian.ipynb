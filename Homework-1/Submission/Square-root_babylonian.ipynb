{
 "cells": [
  {
   "cell_type": "code",
   "execution_count": 37,
   "id": "268e3644",
   "metadata": {},
   "outputs": [],
   "source": [
    "# calculates square root of positive numbers using the ancient Babylonian Method\n",
    "def babylonian_sqrt(num):\n",
    "    if num < 0:\n",
    "        return \"Error! Square Root of negative numbers does not exist!\"\n",
    "    \n",
    "    # taking initial guess\n",
    "    init_guess_Xo = 70\n",
    "\n",
    "    # calculating estimated square-root in first iteration\n",
    "    S = num\n",
    "    sqrt_est_1 = (init_guess_Xo + S / init_guess_Xo) / 2\n",
    "    curr_sqrt_est = sqrt_est_1\n",
    "\n",
    "    # performing another iteration of square-root estimation\n",
    "    curr_sqrt_est_n = (curr_sqrt_est + S / curr_sqrt_est) / 2\n",
    "    curr_sqrt_est = curr_sqrt_est_n\n",
    "    curr_sqrt_est_n1 = (curr_sqrt_est + S / curr_sqrt_est) / 2\n",
    "    \n",
    "    # keep performing iterations for square-root estimations, until the estimated values converge\n",
    "    while curr_sqrt_est_n != curr_sqrt_est_n1:\n",
    "        curr_sqrt_est_n = (curr_sqrt_est + S / curr_sqrt_est) / 2\n",
    "        curr_sqrt_est = curr_sqrt_est_n\n",
    "        curr_sqrt_est_n1 = (curr_sqrt_est + S / curr_sqrt_est) / 2\n",
    "\n",
    "    return curr_sqrt_est"
   ]
  },
  {
   "cell_type": "code",
   "execution_count": 38,
   "id": "39ae0e2e",
   "metadata": {},
   "outputs": [
    {
     "data": {
      "text/plain": [
       "8.0"
      ]
     },
     "execution_count": 38,
     "metadata": {},
     "output_type": "execute_result"
    }
   ],
   "source": [
    "babylonian_sqrt(64)"
   ]
  },
  {
   "cell_type": "code",
   "execution_count": null,
   "id": "76c6de0a",
   "metadata": {},
   "outputs": [],
   "source": []
  }
 ],
 "metadata": {
  "kernelspec": {
   "display_name": "Python 3 (ipykernel)",
   "language": "python",
   "name": "python3"
  },
  "language_info": {
   "codemirror_mode": {
    "name": "ipython",
    "version": 3
   },
   "file_extension": ".py",
   "mimetype": "text/x-python",
   "name": "python",
   "nbconvert_exporter": "python",
   "pygments_lexer": "ipython3",
   "version": "3.11.5"
  }
 },
 "nbformat": 4,
 "nbformat_minor": 5
}
