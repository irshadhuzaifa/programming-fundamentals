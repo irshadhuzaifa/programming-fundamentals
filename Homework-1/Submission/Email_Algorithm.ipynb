{
 "cells": [
  {
   "cell_type": "code",
   "execution_count": 57,
   "id": "65a32322",
   "metadata": {},
   "outputs": [],
   "source": [
    "emails = [ \n",
    "\n",
    "''' \n",
    "\n",
    "Sender: person1@site29.com \n",
    "\n",
    "CC: ccperson1@site26.com, ccperson.32@site0.net, cc.person5@udacity.org \n",
    "\n",
    "BCC: bccperson43@site99.com, bccperson.42@site21.net.uk, bcc.person.7@google.org.pk \n",
    "\n",
    "Body: \n",
    "\n",
    "We are happy to invite you to the following events: \n",
    "\n",
    "Raj's birthday at 29-10-2023 on 06:00 PM. \n",
    "\n",
    "Sheila's morning yoga practice dated 2022-03-31, 09:30 AM \n",
    "\n",
    "''' \n",
    "\n",
    ", \n",
    "\n",
    "''' \n",
    "\n",
    "Sender: person1@site59.net.pk \n",
    "\n",
    "CC: ccperson1@site26.com, ccperson.32@site0.net, cc.person5@udacity.org \n",
    "\n",
    "BCC: bccperson43@site99.com, bccperson.42@site21.net.uk, bcc.person.7@google.org.pk \n",
    "\n",
    "Body: \n",
    "\n",
    "You are cordially invited to: \n",
    "\n",
    "Avril's business meeting on Environmental Disasters, airing live on 2023-02-08 at 01:00 PM. \n",
    "\n",
    "Sheila's yoga practice on 12:30 PM, 31-03-2022 \n",
    "\n",
    "''' \n",
    "\n",
    "] \n",
    "\n",
    "import re\n",
    "\n",
    "Eml_list = []\n",
    "    \n",
    "# Adds individual emails as separate lists in the Eml_list.\n",
    "for email in emails:\n",
    "    E_mail = email.strip()\n",
    "    Eml_list.append([E_mail])\n",
    "\n",
    "def process_email(the_email):\n",
    "    \n",
    "    event_detail = []\n",
    "    ln_list = []   \n",
    "    lines = re.split(\"\\n\",the_email)\n",
    "    for line in lines:\n",
    "        if len(line) > 1:\n",
    "            ln_list.append(line)\n",
    "        \n",
    "   #These 3 lines use regular expression to find all the valid email addresses in lines 1,2 and 3 of the email and store them as individual lists.\n",
    "    Senders = re.findall(r'[a-z0-9_\\-]+(?:\\.[a-z0-9_\\-]+)*@[a-z0-9]+(?:\\-[a-z0-9]+)*(?:\\.[a-z0-9]+)+', ln_list [0])\n",
    "    CCs = re.findall(r'[a-z0-9_\\-]+(?:\\.[a-z0-9_\\-]+)*@[a-z0-9]+(?:\\-[a-z0-9]+)*(?:\\.[a-z0-9]+)+', ln_list [1])\n",
    "    BCCs = re.findall(r'[a-z0-9_\\-]+(?:\\.[a-z0-9_\\-]+)*@[a-z0-9]+(?:\\-[a-z0-9]+)*(?:\\.[a-z0-9]+)+', ln_list [2])\n",
    "\n",
    "   \n",
    "    for line in ln_list[5:]:\n",
    "        \n",
    "        #Finds all the dates in line 5th and onwards, and the dates are appended to the event_detail list.\n",
    "        date = re.findall(\"(?:\\d{4}-\\d{2}-\\d{2})|(?:\\d{2}-\\d{2}-\\d{4})\", line)\n",
    "        event_detail.append(date [0])\n",
    "         \n",
    "        #Finds all the times in line 5th and onwards, and these times are appended to the event_detail list.\n",
    "        time = re.findall(r\"(?i)(?:1[0-2]|0[1-9]):(?:[0-5][0-9])\\s?(?:am|pm)\", line)\n",
    "        event_detail.append(time [0])\n",
    "        \n",
    "    # returns the list of Senders, CCs, and BCCs as well as the event_detail list in tuple form.\n",
    "    return Senders, CCs, BCCs, tuple(event_detail)\n"
   ]
  },
  {
   "cell_type": "code",
   "execution_count": 58,
   "id": "63cd2798",
   "metadata": {},
   "outputs": [
    {
     "data": {
      "text/plain": [
       "(['person1@site29.com'],\n",
       " ['ccperson1@site26.com', 'ccperson.32@site0.net', 'cc.person5@udacity.org'],\n",
       " ['bccperson43@site99.com',\n",
       "  'bccperson.42@site21.net.uk',\n",
       "  'bcc.person.7@google.org.pk'],\n",
       " ('29-10-2023', '06:00 PM', '2022-03-31', '09:30 AM'))"
      ]
     },
     "execution_count": 58,
     "metadata": {},
     "output_type": "execute_result"
    }
   ],
   "source": [
    "process_email(Eml_list[0][0])"
   ]
  },
  {
   "cell_type": "code",
   "execution_count": 59,
   "id": "f33222d4",
   "metadata": {},
   "outputs": [
    {
     "data": {
      "text/plain": [
       "(['person1@site59.net.pk'],\n",
       " ['ccperson1@site26.com', 'ccperson.32@site0.net', 'cc.person5@udacity.org'],\n",
       " ['bccperson43@site99.com',\n",
       "  'bccperson.42@site21.net.uk',\n",
       "  'bcc.person.7@google.org.pk'],\n",
       " ('2023-02-08', '01:00 PM', '31-03-2022', '12:30 PM'))"
      ]
     },
     "execution_count": 59,
     "metadata": {},
     "output_type": "execute_result"
    }
   ],
   "source": [
    "process_email(Eml_list[1][0])"
   ]
  },
  {
   "cell_type": "code",
   "execution_count": 60,
   "id": "e41673a3",
   "metadata": {},
   "outputs": [],
   "source": [
    "def extract_from_emails (Emails):\n",
    "\n",
    "    Senders_list = []\n",
    "    CCs_list = []\n",
    "    BCCs_list = []\n",
    "    Events_details = []\n",
    "    \n",
    "    for email in Emails:\n",
    "        \n",
    "        sender, cc_emails, bcc_emails, event_details = process_email(email)\n",
    "        \n",
    "        Senders_list.append(sender)\n",
    "        CCs_list.append(cc_emails)\n",
    "        BCCs_list.append(bcc_emails)\n",
    "        Events_details.append(event_details)\n",
    "        \n",
    "    return Senders_list, CCs_list, BCCs_list, Events_details"
   ]
  },
  {
   "cell_type": "code",
   "execution_count": 53,
   "id": "e4c864c4",
   "metadata": {},
   "outputs": [
    {
     "data": {
      "text/plain": [
       "([['person1@site29.com'], ['person1@site59.net.pk']],\n",
       " [['ccperson1@site26.com', 'ccperson.32@site0.net', 'cc.person5@udacity.org'],\n",
       "  ['ccperson1@site26.com', 'ccperson.32@site0.net', 'cc.person5@udacity.org']],\n",
       " [['bccperson43@site99.com',\n",
       "   'bccperson.42@site21.net.uk',\n",
       "   'bcc.person.7@google.org.pk'],\n",
       "  ['bccperson43@site99.com',\n",
       "   'bccperson.42@site21.net.uk',\n",
       "   'bcc.person.7@google.org.pk']],\n",
       " [('29-10-2023', '06:00 PM', '2022-03-31', '09:30 AM'),\n",
       "  ('2023-02-08', '01:00 PM', '31-03-2022', '12:30 PM')])"
      ]
     },
     "execution_count": 53,
     "metadata": {},
     "output_type": "execute_result"
    }
   ],
   "source": [
    "extract_from_emails(emails)"
   ]
  },
  {
   "cell_type": "code",
   "execution_count": null,
   "id": "abd83183",
   "metadata": {},
   "outputs": [],
   "source": []
  }
 ],
 "metadata": {
  "kernelspec": {
   "display_name": "Python 3 (ipykernel)",
   "language": "python",
   "name": "python3"
  },
  "language_info": {
   "codemirror_mode": {
    "name": "ipython",
    "version": 3
   },
   "file_extension": ".py",
   "mimetype": "text/x-python",
   "name": "python",
   "nbconvert_exporter": "python",
   "pygments_lexer": "ipython3",
   "version": "3.11.5"
  }
 },
 "nbformat": 4,
 "nbformat_minor": 5
}
