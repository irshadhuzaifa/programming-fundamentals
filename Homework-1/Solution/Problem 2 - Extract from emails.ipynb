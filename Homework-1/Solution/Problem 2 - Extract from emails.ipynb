{
 "cells": [
  {
   "cell_type": "code",
   "execution_count": 1,
   "id": "e6a1eb95",
   "metadata": {},
   "outputs": [],
   "source": [
    "import re"
   ]
  },
  {
   "cell_type": "code",
   "execution_count": 39,
   "id": "0f3b0bf4",
   "metadata": {},
   "outputs": [],
   "source": [
    "emails = [\n",
    "'''\n",
    "Sender: person1@site29.com\n",
    "CC: ccperson1@site26.com, ccperson.32@site0.net, cc.person5@udacity.org\n",
    "BCC: bccperson43@site99.com, bccperson.42@site21.net.uk, bcc.person.7@google.org.pk\n",
    "Body:\n",
    "We are happy to invite you to the following events:\n",
    "    Raj's birthday at 29-10-2023 on 06:00 PM.\n",
    "    Sheila's morning yoga practice dated 2022-03-31, 09:30 AM\n",
    "'''\n",
    ",\n",
    "'''\n",
    "Sender: person1@site59.net.pk\n",
    "CC: ccperson1@site26.com, ccperson.32@site0.net, cc.person5@udacity.org\n",
    "BCC: bccperson43@site99.com, bccperson.42@site21.net.uk, bcc.person.7@google.org.pk\n",
    "Body:\n",
    "You are cordially invited to:\n",
    "    Avril's business meeting on Environmental Disasters, airing live on 2023-02-08 at 01:00 PM.\n",
    "    Sheila's yoga practice on 12:30 PM, 31-03-2022\n",
    "'''\n",
    "]"
   ]
  },
  {
   "cell_type": "code",
   "execution_count": 31,
   "id": "7d15b8fd",
   "metadata": {},
   "outputs": [],
   "source": [
    "# you can find the characteristics of username and domain parts of email here:\n",
    "# https://snov.io/knowledgebase/what-is-a-valid-email-address-format/\n",
    "username_regex = r'[\\-_]?([a-z0-9]+[\\.\\-_]?[a-z0-9]+)+'\n",
    "domain_regex = r'[a-z0-9]+(\\.[a-z0-9]+(\\-*[a-z0-9]+)*)+'\n",
    "\n",
    "email_regex = f'{username_regex}@{domain_regex}'"
   ]
  },
  {
   "cell_type": "code",
   "execution_count": 32,
   "id": "d841c616",
   "metadata": {},
   "outputs": [],
   "source": [
    "year_regex = r'\\d{4}'\n",
    "\n",
    "jan_sept_regex = r'(0[1-9])'\n",
    "oct_dec_regex = r'(1[0-2])'\n",
    "month_regex = f'({jan_sept_regex}|{oct_dec_regex})'\n",
    "\n",
    "_1_to_9_days_regex = r'(0[1-9])'\n",
    "_10_to_29_days_regex = r'([12][0-9])'\n",
    "_30_to_31_days_regex = r'(3[01])'\n",
    "day_regex = f'({_1_to_9_days_regex}|{_10_to_29_days_regex}|{_30_to_31_days_regex})'\n",
    "\n",
    "year_month_day_date_regex = f'({year_regex}\\-{month_regex}\\-{day_regex})'\n",
    "day_month_year_date_regex = f'({day_regex}\\-{month_regex}\\-{year_regex})'\n",
    "\n",
    "date_regex = f'{year_month_day_date_regex}|{day_month_year_date_regex}'"
   ]
  },
  {
   "cell_type": "code",
   "execution_count": 33,
   "id": "5c5e3801",
   "metadata": {},
   "outputs": [],
   "source": [
    "_1_to_9_hours_regex = r'(0[1-9])'\n",
    "_10_to_12_hours_regex = r'(1[012])'\n",
    "hour_regex = f'({_1_to_9_hours_regex}|{_10_to_12_hours_regex})'\n",
    "\n",
    "minute_regex = r'[0-5][0-9]'\n",
    "ampm_regex = r'(AM|PM)'\n",
    "\n",
    "time_regex = f'{hour_regex}:{minute_regex} {ampm_regex}'"
   ]
  },
  {
   "cell_type": "code",
   "execution_count": 40,
   "id": "b807208c",
   "metadata": {},
   "outputs": [],
   "source": [
    "def get_matched_strings(regex, string):\n",
    "    #  sandwich the elements of the list passed to join() with 'regex', preparing regex for re.findall()\n",
    "    regex = regex.join(['(', ')']) # e.g. regex = 'abc'; regex.join(['(', ')']) => (abc)\n",
    "    #  return group of each match that matches with the whole 'regex'(found in 'string'), instead of just 1 group\n",
    "    return [matched_group[0] for matched_group in re.findall(regex, string)]"
   ]
  },
  {
   "cell_type": "code",
   "execution_count": 53,
   "id": "2fb1d2f1",
   "metadata": {},
   "outputs": [],
   "source": [
    "def process_email(email):\n",
    "    email_lines = [line for line in re.split(r'\\n+', email) if len(line) > 0]\n",
    "    \n",
    "    sender_line, cc_line, bcc_line, *body_lines = email_lines\n",
    "    \n",
    "    event_lines = body_lines[2:]\n",
    "    \n",
    "    sender = get_matched_strings(email_regex, sender_line)[0]\n",
    "    \n",
    "    cc_email_addresses = get_matched_strings(email_regex, cc_line)\n",
    "    \n",
    "    bcc_email_addresses = get_matched_strings(email_regex, bcc_line)\n",
    "    \n",
    "    event_details = []\n",
    "    \n",
    "    for event_line in event_lines:\n",
    "        \n",
    "        event_date = get_matched_strings(date_regex, event_line)[0]\n",
    "        event_time = get_matched_strings(time_regex, event_line)[0]\n",
    "        \n",
    "        event_details.append([event_date, event_time])\n",
    "        \n",
    "    return (sender, cc_email_addresses, bcc_email_addresses, event_details)"
   ]
  },
  {
   "cell_type": "code",
   "execution_count": 58,
   "id": "af480a07",
   "metadata": {},
   "outputs": [],
   "source": [
    "def extractFromEmails(emails):\n",
    "    senders, CCs_by_email, BCCs_by_email, event_details_by_email = [], [], [], []\n",
    "    \n",
    "    for email in emails:\n",
    "        \n",
    "        sender, cc_emails, bcc_emails, event_details = process_email(email)\n",
    "        \n",
    "        senders.append(sender)\n",
    "        CCs_by_email.append(cc_emails)\n",
    "        BCCs_by_email.append(bcc_emails)\n",
    "        event_details_by_email.append(event_details)\n",
    "        \n",
    "    return senders, CCs_by_email, BCCs_by_email, event_details_by_email"
   ]
  },
  {
   "cell_type": "code",
   "execution_count": 55,
   "id": "8e40f5f4",
   "metadata": {},
   "outputs": [
    {
     "name": "stdout",
     "output_type": "stream",
     "text": [
      "('Senders', ['person1@site29.com', 'person1@site59.net.pk'])\n",
      "\n",
      "\n",
      "('CCs', [['ccperson1@site26.com', 'ccperson.32@site0.net', 'cc.person5@udacity.org'], ['ccperson1@site26.com', 'ccperson.32@site0.net', 'cc.person5@udacity.org']])\n",
      "\n",
      "\n",
      "('BCCs', [['bccperson43@site99.com', 'bccperson.42@site21.net.uk', 'bcc.person.7@google.org.pk'], ['bccperson43@site99.com', 'bccperson.42@site21.net.uk', 'bcc.person.7@google.org.pk']])\n",
      "\n",
      "\n",
      "(\"Events' Details\", [[['29-10-2023', '06:00 PM'], ['2022-03-31', '09:30 AM']], [['2023-02-08', '01:00 PM'], ['31-03-2022', '12:30 PM']]])\n"
     ]
    }
   ],
   "source": [
    "labels_packed_results = zip(['Senders', 'CCs', 'BCCs', \"Events' Details\"], extractFromEmails(emails))\n",
    "print(*labels_packed_results, sep='\\n\\n\\n')"
   ]
  },
  {
   "cell_type": "code",
   "execution_count": 56,
   "id": "57c258ca",
   "metadata": {},
   "outputs": [
    {
     "data": {
      "text/plain": [
       "['Ahsan', 'Huzaifa', 'Irshad']"
      ]
     },
     "execution_count": 56,
     "metadata": {},
     "output_type": "execute_result"
    }
   ],
   "source": [
    "s = '''Ahsan\n",
    "\n",
    "Huzaifa\n",
    "\n",
    "Irshad'''\n",
    "re.split('\\n+', s)"
   ]
  },
  {
   "cell_type": "code",
   "execution_count": 57,
   "id": "83c4bad6",
   "metadata": {},
   "outputs": [
    {
     "data": {
      "text/plain": [
       "(['person1@site29.com', 'person1@site59.net.pk'],\n",
       " [['ccperson1@site26.com', 'ccperson.32@site0.net', 'cc.person5@udacity.org'],\n",
       "  ['ccperson1@site26.com', 'ccperson.32@site0.net', 'cc.person5@udacity.org']],\n",
       " [['bccperson43@site99.com',\n",
       "   'bccperson.42@site21.net.uk',\n",
       "   'bcc.person.7@google.org.pk'],\n",
       "  ['bccperson43@site99.com',\n",
       "   'bccperson.42@site21.net.uk',\n",
       "   'bcc.person.7@google.org.pk']],\n",
       " [[['29-10-2023', '06:00 PM'], ['2022-03-31', '09:30 AM']],\n",
       "  [['2023-02-08', '01:00 PM'], ['31-03-2022', '12:30 PM']]])"
      ]
     },
     "execution_count": 57,
     "metadata": {},
     "output_type": "execute_result"
    }
   ],
   "source": [
    "extractFromEmails(emails)"
   ]
  },
  {
   "cell_type": "code",
   "execution_count": null,
   "id": "36044dde",
   "metadata": {},
   "outputs": [],
   "source": []
  }
 ],
 "metadata": {
  "kernelspec": {
   "display_name": "Python 3 (ipykernel)",
   "language": "python",
   "name": "python3"
  },
  "language_info": {
   "codemirror_mode": {
    "name": "ipython",
    "version": 3
   },
   "file_extension": ".py",
   "mimetype": "text/x-python",
   "name": "python",
   "nbconvert_exporter": "python",
   "pygments_lexer": "ipython3",
   "version": "3.9.18"
  }
 },
 "nbformat": 4,
 "nbformat_minor": 5
}
