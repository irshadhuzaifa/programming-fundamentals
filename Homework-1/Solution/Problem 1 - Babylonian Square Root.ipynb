{
 "cells": [
  {
   "cell_type": "code",
   "execution_count": 1,
   "id": "bfa3b9b2",
   "metadata": {},
   "outputs": [],
   "source": [
    "def ceil(num):\n",
    "    pos_num = abs(num)\n",
    "    fraction = pos_num - int(pos_num)\n",
    "    \n",
    "    if fraction > 0.0000:\n",
    "        return round(num + (1 - fraction))\n",
    "    \n",
    "    return num"
   ]
  },
  {
   "cell_type": "code",
   "execution_count": 2,
   "id": "2713a4d6",
   "metadata": {},
   "outputs": [],
   "source": [
    "def babylonian_guess(num):\n",
    "    num_whole_digits = len(str(int(num)))\n",
    "    \n",
    "    # calculating guesses using The Rule of Twos and Sevens\n",
    "    low_guess, high_guess = 2 * 10 ** ceil(num_whole_digits / 2), 7 * 10 ** ceil(num_whole_digits / 2)\n",
    "    \n",
    "    # calculating distance of each guess from num\n",
    "    low_guess_diff, high_guess_diff = abs(low_guess - num), abs(high_guess - num)\n",
    "    \n",
    "    if low_guess_diff <= high_guess_diff:\n",
    "        return low_guess\n",
    "    return high_guess"
   ]
  },
  {
   "cell_type": "code",
   "execution_count": 14,
   "id": "ff29a30e",
   "metadata": {},
   "outputs": [],
   "source": [
    "def babylonian_sqrt(num):\n",
    "    if num < 0:\n",
    "        return \"Error! Square root doesn't exist for negative numbers!\"\n",
    "    \n",
    "    convergence = False\n",
    "    \n",
    "    guess = babylonian_guess(num)\n",
    "    \n",
    "    est_sqrt = guess\n",
    "    prev_est_sqrt = None\n",
    "    \n",
    "    while not convergence:\n",
    "        if prev_est_sqrt is None:\n",
    "            prev_est_sqrt = est_sqrt\n",
    "        elif prev_est_sqrt == est_sqrt:\n",
    "            convergence = True\n",
    "        else:\n",
    "            convergence = False\n",
    "            prev_est_sqrt = est_sqrt\n",
    "        est_sqrt = (est_sqrt + (num / est_sqrt)) / 2\n",
    "        \n",
    "    return est_sqrt\n",
    "    "
   ]
  },
  {
   "cell_type": "code",
   "execution_count": 17,
   "id": "ffe57694",
   "metadata": {},
   "outputs": [
    {
     "name": "stdout",
     "output_type": "stream",
     "text": [
      "5.0\n"
     ]
    }
   ],
   "source": [
    "print(babylonian_sqrt(25))"
   ]
  },
  {
   "cell_type": "code",
   "execution_count": null,
   "id": "1897e571",
   "metadata": {},
   "outputs": [],
   "source": []
  }
 ],
 "metadata": {
  "kernelspec": {
   "display_name": "Python 3 (ipykernel)",
   "language": "python",
   "name": "python3"
  },
  "language_info": {
   "codemirror_mode": {
    "name": "ipython",
    "version": 3
   },
   "file_extension": ".py",
   "mimetype": "text/x-python",
   "name": "python",
   "nbconvert_exporter": "python",
   "pygments_lexer": "ipython3",
   "version": "3.9.18"
  }
 },
 "nbformat": 4,
 "nbformat_minor": 5
}
