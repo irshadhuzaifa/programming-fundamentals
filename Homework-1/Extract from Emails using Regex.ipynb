{
 "cells": [
  {
   "cell_type": "code",
   "execution_count": 23,
   "id": "2089bdf5",
   "metadata": {},
   "outputs": [
    {
     "name": "stdout",
     "output_type": "stream",
     "text": [
      "[('01:00 PM', 'PM'), ('12:30 PM', 'PM')]\n"
     ]
    }
   ],
   "source": [
    "import re\n",
    "emails = [ \n",
    "\n",
    "''' \n",
    "\n",
    "Sender: person1@site29.com \n",
    "\n",
    "CC: ccperson1@site26.com, ccperson.32@site0.net, cc.person5@udacity.org \n",
    "\n",
    "BCC: bccperson43@site99.com, bccperson.42@site21.net.uk, bcc.person.7@google.org.pk \n",
    "\n",
    "Body: \n",
    "\n",
    "We are happy to invite you to the following events: \n",
    "\n",
    "Raj's birthday at 29-10-2023 on 06:00 PM. \n",
    "\n",
    "Sheila's morning yoga practice dated 2022-03-31, 09:30 AM \n",
    "\n",
    "''' \n",
    "\n",
    ", \n",
    "\n",
    "''' \n",
    "\n",
    "Sender: person1@site59.net.pk \n",
    "\n",
    "CC: ccperson1@site26.com, ccperson.32@site0.net, cc.person5@udacity.org \n",
    "\n",
    "BCC: bccperson43@site99.com, bccperson.42@site21.net.uk, bcc.person.7@google.org.pk \n",
    "\n",
    "Body: \n",
    "\n",
    "You are cordially invited to: \n",
    "\n",
    "Avril's business meeting on Environmental Disasters, airing live on 2023-02-08 at 01:00 PM. \n",
    "\n",
    "Sheila's yoga practice on 12:30 PM, 31-03-2022 \n",
    "\n",
    "''' \n",
    "\n",
    "] \n",
    "senders=[]\n",
    "CCs=[]\n",
    "BCCs=[]\n",
    "x = None\n",
    "for line in emails:\n",
    "    words=line.split()\n",
    "    senders.append(words[1])\n",
    "    CCs.append(words[3:6])\n",
    "    BCCs.append(words[7:10])\n",
    "    x=re.findall(r\"([0-1][0-2]:[0-5][0-9] (AM|PM))\", line)\n",
    "print(list(x))\n",
    "\n",
    "\n",
    "# print(senders)    \n",
    "# print(CCs)\n",
    "# print(BCCs)    "
   ]
  },
  {
   "cell_type": "code",
   "execution_count": 13,
   "id": "fdaefb51",
   "metadata": {},
   "outputs": [
    {
     "data": {
      "text/plain": [
       "0"
      ]
     },
     "execution_count": 13,
     "metadata": {},
     "output_type": "execute_result"
    }
   ],
   "source": [
    "len(list(x))"
   ]
  },
  {
   "cell_type": "code",
   "execution_count": null,
   "id": "ff607959",
   "metadata": {},
   "outputs": [],
   "source": []
  }
 ],
 "metadata": {
  "kernelspec": {
   "display_name": "Python 3 (ipykernel)",
   "language": "python",
   "name": "python3"
  },
  "language_info": {
   "codemirror_mode": {
    "name": "ipython",
    "version": 3
   },
   "file_extension": ".py",
   "mimetype": "text/x-python",
   "name": "python",
   "nbconvert_exporter": "python",
   "pygments_lexer": "ipython3",
   "version": "3.11.5"
  }
 },
 "nbformat": 4,
 "nbformat_minor": 5
}
