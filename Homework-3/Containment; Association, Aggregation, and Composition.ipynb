{
 "cells": [
  {
   "cell_type": "markdown",
   "id": "fb7b6331",
   "metadata": {},
   "source": [
    "# Containment: Association, Aggregation, and Composition"
   ]
  },
  {
   "cell_type": "markdown",
   "id": "f81b2a01",
   "metadata": {},
   "source": [
    "All containment relationships are **'has-a'** relationships, choosing from amongst them depends on 2 factors:\n",
    "- whether the entities in question have a part-whole relationship or not\n",
    "- the strength (of lifecycle dependency) of the containment relationship"
   ]
  },
  {
   "cell_type": "markdown",
   "id": "e8922fe9",
   "metadata": {},
   "source": [
    "## Association"
   ]
  },
  {
   "cell_type": "markdown",
   "id": "d886d6ed",
   "metadata": {},
   "source": [
    "**Definition:** The weakness form of containment. When classes, that are otherwise unrelated to each other, but need to access each other's methods/member-functions in order to perform some task(s), they will keep a reference to each other and use it when needed. This is called aggregation."
   ]
  },
  {
   "cell_type": "markdown",
   "id": "f3847a56",
   "metadata": {},
   "source": [
    "**Examples:**"
   ]
  },
  {
   "cell_type": "markdown",
   "id": "7516ef51",
   "metadata": {},
   "source": [
    "- bank and customer, a bank **has** customers and serves them, a person **uses** bank account(s) of bank(s), but neither is part of the other, and both can exist without each other\n",
    "- bank and employees, a bank **has** employee(s), and employee(s) work for a bank, but neither is part of the other, and both can exist without each other\n",
    "- doctor and patient, a doctor **has patient(s)**, checks a patient(s) (and may prescribe medicine and/or treatment), and a patient gets checked by a doctor(s) for health issues; both can exist without each other, and there is no part-whole relationship"
   ]
  },
  {
   "cell_type": "code",
   "execution_count": 1,
   "id": "2ceb0851",
   "metadata": {},
   "outputs": [],
   "source": [
    "class Bank:\n",
    "    def __init__(self):\n",
    "        pass"
   ]
  },
  {
   "cell_type": "markdown",
   "id": "2f7fe089",
   "metadata": {},
   "source": [
    "## Aggregation"
   ]
  },
  {
   "cell_type": "markdown",
   "id": "e3200582",
   "metadata": {},
   "source": [
    "**Definition:** The weakest form of containmnet that entails a part-whole relationship or ownership relationship, but both entities can exist/survive independently. This is a unidirectional relationship, meaning that only the owner has the reference to the parts, and not vice versa."
   ]
  },
  {
   "cell_type": "markdown",
   "id": "ab165636",
   "metadata": {},
   "source": [
    "**Examples:**"
   ]
  },
  {
   "cell_type": "markdown",
   "id": "ee2cf323",
   "metadata": {},
   "source": [
    "- buildings contain ACs, heaters, furniture etc.; they are a part of the building, but both can exist/survive separately, meaning their lifecycle is independent, despite the ownership/part-whole relationship; i.e. the ACs, heaters, furnitures are part of the building, but building, as well as ACs, heaters, and furniture can exist/survive without each other.\n",
    "- colleges have students and teachers; college keeps track of students' courses, departments, exams, attedance, performance; college keeps track of teachers' courses, departments, attendance, payroll, and performance. but all of them can exist independently.\n",
    "- an LTV, and some HTV, vehicle can board a passenger, and while the passenger is onboard, he/she is part of the vehicle, but can easily drop off; both can exist without each other."
   ]
  },
  {
   "cell_type": "markdown",
   "id": "488726d7",
   "metadata": {},
   "source": [
    "## Composition (death relationship)"
   ]
  },
  {
   "cell_type": "markdown",
   "id": "7633ee80",
   "metadata": {},
   "source": [
    "**Definition:** The strongest form of containment that entails part-whole or ownership relationship between entities, and lifecycles of containing and containee entities are connected i.e. destruction of containing entity results in destruction of the containee entities."
   ]
  },
  {
   "cell_type": "markdown",
   "id": "21e2f58e",
   "metadata": {},
   "source": [
    "**Examples**"
   ]
  },
  {
   "cell_type": "markdown",
   "id": "d0cc8400",
   "metadata": {},
   "source": [
    "- building and rooms; building is composed of rooms, and destruction of the building means destruction of the rooms.\n",
    "- car and engine; a car's destruction results in destruction of car's engine as well.\n",
    "- human and organs; death of human (containee) results in destruction of the contained organs as well."
   ]
  },
  {
   "cell_type": "code",
   "execution_count": null,
   "id": "850ca42e",
   "metadata": {},
   "outputs": [],
   "source": []
  }
 ],
 "metadata": {
  "kernelspec": {
   "display_name": "Python 3 (ipykernel)",
   "language": "python",
   "name": "python3"
  },
  "language_info": {
   "codemirror_mode": {
    "name": "ipython",
    "version": 3
   },
   "file_extension": ".py",
   "mimetype": "text/x-python",
   "name": "python",
   "nbconvert_exporter": "python",
   "pygments_lexer": "ipython3",
   "version": "3.9.18"
  }
 },
 "nbformat": 4,
 "nbformat_minor": 5
}
