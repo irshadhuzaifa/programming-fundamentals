{
 "cells": [
  {
   "cell_type": "markdown",
   "id": "ba84bad4",
   "metadata": {},
   "source": [
    "# Containment: Association, Aggregation, and Composition"
   ]
  },
  {
   "cell_type": "markdown",
   "id": "b7915adc",
   "metadata": {},
   "source": [
    "All containment relationships are **'has-a'** relationships, choosing from amongst them depends on 2 factors:\n",
    "- whether the entities in question have a part-whole relationship or not\n",
    "- the strength (of lifecycle dependency) of the containment relationship"
   ]
  },
  {
   "cell_type": "markdown",
   "id": "e385dc3c",
   "metadata": {},
   "source": [
    "## Association"
   ]
  },
  {
   "cell_type": "markdown",
   "id": "7e327acc",
   "metadata": {},
   "source": [
    "**Definition:** The weakness form of containment. When classes, that are otherwise unrelated to each other, but need to access each other's methods/member-functions in order to perform some task(s), they will keep a reference to each other and use it when needed. This is called aggregation."
   ]
  },
  {
   "cell_type": "markdown",
   "id": "a8509ff5",
   "metadata": {},
   "source": [
    "**Examples:**"
   ]
  },
  {
   "cell_type": "markdown",
   "id": "3c5b7f65",
   "metadata": {},
   "source": [
    "- bank and customer, a bank **has** customers and serves them, a person **uses** bank account(s) of bank(s), but neither is part of the other, and both can exist without each other\n",
    "- bank and employees, a bank **has** employee(s), and employee(s) work for a bank, but neither is part of the other, and both can exist without each other\n",
    "- doctor and patient, a doctor **has patient(s)**, checks a patient(s) (and may prescribe medicine and/or treatment), and a patient gets checked by a doctor(s) for health issues; both can exist without each other, and there is no part-whole relationship"
   ]
  },
  {
   "cell_type": "code",
   "execution_count": 45,
   "id": "ebc027fe",
   "metadata": {},
   "outputs": [],
   "source": [
    "class Customer:\n",
    "    customer_id_generator = 0\n",
    "    \n",
    "    def __init__(self):\n",
    "        self.id = Customer.customer_id_generator\n",
    "        Customer.customer_id_generator += 1\n",
    "        \n",
    "    def get_customer_id(self):\n",
    "        return self.id\n",
    "    \n",
    "class Bank:\n",
    "    def __init__(self):\n",
    "        # the ':list' part below is just to give a little hint to developer about the date-type of self.customers\n",
    "        self.customers:list = []\n",
    "    \n",
    "    def register_customer(self, customer):\n",
    "        self.customers.append(customer.id)\n",
    "    \n",
    "    def serve_customer(self, customer):\n",
    "        \n",
    "        success_status, message = None, None\n",
    "        print('Serving customer')\n",
    "        \n",
    "        if customer.id in self.customers:\n",
    "            # write customer serving logic here\n",
    "            \n",
    "            success_status = True\n",
    "            message = f'Have a nice day Customer(id: {customer.id})!'\n",
    "            return success_status, message\n",
    "        else:\n",
    "            \n",
    "            success_status = False\n",
    "            message = 'You are not registered with this bank.'\n",
    "            return success_status, message\n",
    "\n",
    "    def view_current_customers(self):\n",
    "        return list(map(lambda customer_id: f'Customer(id: {customer_id})',self.customers))"
   ]
  },
  {
   "cell_type": "code",
   "execution_count": 51,
   "id": "1abb3ccc",
   "metadata": {},
   "outputs": [],
   "source": [
    "c1 = Customer()\n",
    "c2 = Customer()\n",
    "c3 = Customer()\n",
    "c4 = Customer()\n",
    "c5 = Customer()"
   ]
  },
  {
   "cell_type": "code",
   "execution_count": 52,
   "id": "5063cd75",
   "metadata": {},
   "outputs": [],
   "source": [
    "b = Bank()"
   ]
  },
  {
   "cell_type": "code",
   "execution_count": 53,
   "id": "e932f131",
   "metadata": {},
   "outputs": [],
   "source": [
    "b.register_customer(c1)\n",
    "b.register_customer(c2)\n",
    "b.register_customer(c3)\n",
    "b.register_customer(c4)\n",
    "b.register_customer(c5)"
   ]
  },
  {
   "cell_type": "code",
   "execution_count": 54,
   "id": "b59a014c",
   "metadata": {},
   "outputs": [
    {
     "data": {
      "text/plain": [
       "['Customer(id: 5)',\n",
       " 'Customer(id: 6)',\n",
       " 'Customer(id: 7)',\n",
       " 'Customer(id: 8)',\n",
       " 'Customer(id: 9)']"
      ]
     },
     "execution_count": 54,
     "metadata": {},
     "output_type": "execute_result"
    }
   ],
   "source": [
    "b.view_current_customers()"
   ]
  },
  {
   "cell_type": "code",
   "execution_count": 55,
   "id": "e7209fff",
   "metadata": {},
   "outputs": [
    {
     "name": "stdout",
     "output_type": "stream",
     "text": [
      "Serving customer\n"
     ]
    },
    {
     "data": {
      "text/plain": [
       "(True, 'Have a nice day Customer(id: 6)!')"
      ]
     },
     "execution_count": 55,
     "metadata": {},
     "output_type": "execute_result"
    }
   ],
   "source": [
    "b.serve_customer(c2)"
   ]
  },
  {
   "cell_type": "markdown",
   "id": "1b486cc0",
   "metadata": {},
   "source": [
    "## Aggregation"
   ]
  },
  {
   "cell_type": "markdown",
   "id": "e137c454",
   "metadata": {},
   "source": [
    "**Definition:** The weakest form of containmnet that entails a part-whole relationship or ownership relationship, but both entities can exist/survive independently. This is a unidirectional relationship, meaning that only the owner has the reference to the parts, and not vice versa."
   ]
  },
  {
   "cell_type": "markdown",
   "id": "77801a62",
   "metadata": {},
   "source": [
    "**Examples:**"
   ]
  },
  {
   "cell_type": "markdown",
   "id": "5f46bb90",
   "metadata": {},
   "source": [
    "- buildings contain ACs, heaters, furniture etc.; they are a part of the building, but both can exist/survive separately, meaning their lifecycle is independent, despite the ownership/part-whole relationship; i.e. the ACs, heaters, furnitures are part of the building, but building, as well as ACs, heaters, and furniture can exist/survive without each other.\n",
    "- colleges have students and teachers; college keeps track of students' courses, departments, exams, attedance, performance; college keeps track of teachers' courses, departments, attendance, payroll, and performance. but all of them can exist independently.\n",
    "- an LTV, and some HTV, vehicle can board a passenger, and while the passenger is onboard, he/she is part of the vehicle, but can easily drop off; both can exist without each other."
   ]
  },
  {
   "cell_type": "code",
   "execution_count": 87,
   "id": "55dd8e28",
   "metadata": {},
   "outputs": [],
   "source": [
    "class Appliance:\n",
    "    def __init__(self, power_input, manufacturer):\n",
    "        self.manufacturer:str = manufacturer\n",
    "        self.power_input:int = power_input\n",
    "        \n",
    "    def __str__(self):\n",
    "        return \"Appliance\"\n",
    "        \n",
    "    def destroy(self):\n",
    "        print(f'{self.__str__()} boom!')\n",
    "\n",
    "class AC(Appliance):\n",
    "    def __init__(self, cooling_capacity, power_input, manufacturer):\n",
    "        super().__init__(power_input, manufacturer)\n",
    "        self.cooling_capacity:int = cooling_capacity\n",
    "    \n",
    "    def __str__(self):\n",
    "        return \"AC\"\n",
    "        \n",
    "class Heater(Appliance):\n",
    "    def __init__(self, heater_type, power_input, manufacturer):\n",
    "        super().__init__(power_input, manufacturer)\n",
    "        self.heater_type:str = heater_type\n",
    "    \n",
    "    def __str__(self):\n",
    "        return \"Heater\"\n",
    "    \n",
    "class Furniture:\n",
    "    def __init__(self, furniture_type):\n",
    "        self.furniture_type:str = furniture_type\n",
    "        \n",
    "    def __str__(self):\n",
    "        return \"Furniture\"\n",
    "    \n",
    "    def destroy(self):\n",
    "        print(f'{self.__str__()} boom!')\n",
    "\n",
    "class Building:\n",
    "    def __init__(self, name, land_size):\n",
    "        self.name = name\n",
    "        self.land_size = land_size\n",
    "        self.equipment:list = []\n",
    "        \n",
    "    def add_appliance(self, item: Appliance):\n",
    "        self.equipment.append(item)\n",
    "        \n",
    "    def add_furniture(self, item: Furniture):\n",
    "        self.equipment.append(item)\n",
    "        \n",
    "    def show_current_equipment(self):\n",
    "        print(*self.equipment, sep='\\n')\n",
    "        \n",
    "    def __str__(self):\n",
    "        return f'{self.name} building'\n",
    "    \n",
    "    def destroy(self):\n",
    "        print(f'{self.__str__()} boom!')"
   ]
  },
  {
   "cell_type": "code",
   "execution_count": 88,
   "id": "2e01f62b",
   "metadata": {},
   "outputs": [],
   "source": [
    "b = Building('AI Research Labs', 500)"
   ]
  },
  {
   "cell_type": "code",
   "execution_count": 89,
   "id": "9f781bfd",
   "metadata": {},
   "outputs": [],
   "source": [
    "f1 = Furniture('chair')\n",
    "f2 = Furniture('chair')\n",
    "f3 = Furniture('chair')\n",
    "f4 = Furniture('chair')\n",
    "f5 = Furniture('chair')\n",
    "f6 = Furniture('chair')\n",
    "\n",
    "f7 = Furniture('table')\n",
    "f8 = Furniture('table')\n",
    "f9 = Furniture('table')"
   ]
  },
  {
   "cell_type": "code",
   "execution_count": 90,
   "id": "6b9324fe",
   "metadata": {},
   "outputs": [],
   "source": [
    "ac1 = AC(2, 2500, 'Gree')\n",
    "ac2 = AC(1, 2000, 'Orient')"
   ]
  },
  {
   "cell_type": "code",
   "execution_count": 91,
   "id": "5b563378",
   "metadata": {},
   "outputs": [],
   "source": [
    "h1 = Heater('coil', 2000, 'Sogo')\n",
    "h2 = Heater('fan', 2000, 'Oasis')"
   ]
  },
  {
   "cell_type": "code",
   "execution_count": 92,
   "id": "7713678b",
   "metadata": {},
   "outputs": [],
   "source": [
    "b.add_furniture(f1)\n",
    "b.add_furniture(f2)\n",
    "b.add_furniture(f3)\n",
    "b.add_furniture(f4)\n",
    "b.add_furniture(f5)\n",
    "b.add_furniture(f6)\n",
    "b.add_furniture(f7)\n",
    "b.add_furniture(f8)\n",
    "b.add_furniture(f9)"
   ]
  },
  {
   "cell_type": "code",
   "execution_count": 93,
   "id": "a57793f0",
   "metadata": {},
   "outputs": [
    {
     "name": "stdout",
     "output_type": "stream",
     "text": [
      "Furniture\n",
      "Furniture\n",
      "Furniture\n",
      "Furniture\n",
      "Furniture\n",
      "Furniture\n",
      "Furniture\n",
      "Furniture\n",
      "Furniture\n"
     ]
    }
   ],
   "source": [
    "b.show_current_equipment()"
   ]
  },
  {
   "cell_type": "code",
   "execution_count": 94,
   "id": "37e70738",
   "metadata": {},
   "outputs": [],
   "source": [
    "b.add_appliance(ac1)\n",
    "b.add_appliance(ac2)\n",
    "\n",
    "b.add_appliance(h1)\n",
    "b.add_appliance(h2)"
   ]
  },
  {
   "cell_type": "code",
   "execution_count": 95,
   "id": "fd048fd9",
   "metadata": {},
   "outputs": [
    {
     "name": "stdout",
     "output_type": "stream",
     "text": [
      "Furniture\n",
      "Furniture\n",
      "Furniture\n",
      "Furniture\n",
      "Furniture\n",
      "Furniture\n",
      "Furniture\n",
      "Furniture\n",
      "Furniture\n",
      "AC\n",
      "AC\n",
      "Heater\n",
      "Heater\n"
     ]
    }
   ],
   "source": [
    "b.show_current_equipment()"
   ]
  },
  {
   "cell_type": "code",
   "execution_count": 96,
   "id": "7ad95114",
   "metadata": {},
   "outputs": [
    {
     "name": "stdout",
     "output_type": "stream",
     "text": [
      "AI Research Labs building boom!\n"
     ]
    }
   ],
   "source": [
    "b.destroy()"
   ]
  },
  {
   "cell_type": "code",
   "execution_count": 97,
   "id": "19ff5842",
   "metadata": {},
   "outputs": [
    {
     "name": "stdout",
     "output_type": "stream",
     "text": [
      "AC boom!\n"
     ]
    }
   ],
   "source": [
    "ac1.destroy()"
   ]
  },
  {
   "cell_type": "markdown",
   "id": "909f83a8",
   "metadata": {},
   "source": [
    "## Composition (death relationship)"
   ]
  },
  {
   "cell_type": "markdown",
   "id": "2e8647fd",
   "metadata": {},
   "source": [
    "**Definition:** The strongest form of containment that entails part-whole or ownership relationship between entities, and lifecycles of containing and containee entities are connected i.e. destruction of containing entity results in destruction of the containee entities."
   ]
  },
  {
   "cell_type": "markdown",
   "id": "9d2bedd6",
   "metadata": {},
   "source": [
    "**Examples**"
   ]
  },
  {
   "cell_type": "markdown",
   "id": "017f6f72",
   "metadata": {},
   "source": [
    "- building and rooms; building is composed of rooms, and destruction of the building means destruction of the rooms.\n",
    "- car and engine; a car's destruction results in destruction of car's engine as well.\n",
    "- human and organs; death of human (containee) results in destruction of the contained organs as well."
   ]
  },
  {
   "cell_type": "code",
   "execution_count": 103,
   "id": "fa270439",
   "metadata": {},
   "outputs": [],
   "source": [
    "class Room:\n",
    "    def __init__(self, size, num_doors):\n",
    "        self.size = size\n",
    "        self.num_doors = num_doors\n",
    "    \n",
    "    def __str__(self):\n",
    "        return f'{self.size} size & {self.num_doors} doors room'\n",
    "    \n",
    "    def destroy(self):\n",
    "        print(f'{self.__str__()} boom!')\n",
    "\n",
    "class Building:\n",
    "    def __init__(self, name):\n",
    "        self.name = name\n",
    "        self.rooms:list = []\n",
    "        \n",
    "    def add_room(self, item: Room):\n",
    "        self.rooms.append(item)\n",
    "        \n",
    "    def show_current_rooms(self):\n",
    "        print(*self.rooms, sep='\\n')\n",
    "        \n",
    "    def __str__(self):\n",
    "        return f'{self.name} building'\n",
    "    \n",
    "    def destroy(self):\n",
    "        for room in self.rooms:\n",
    "            room.destroy()\n",
    "        print(f'{self.__str__()} boom!')"
   ]
  },
  {
   "cell_type": "code",
   "execution_count": 104,
   "id": "4c1196eb",
   "metadata": {},
   "outputs": [],
   "source": [
    "b = Building('Susheela Building')"
   ]
  },
  {
   "cell_type": "code",
   "execution_count": 105,
   "id": "bce5fc3a",
   "metadata": {},
   "outputs": [],
   "source": [
    "r1 = Room(1, 1)\n",
    "r2 = Room(2, 1)\n",
    "r3 = Room(5, 3)\n",
    "r4 = Room(3, 2)\n",
    "r5 = Room(2, 1)\n",
    "r6 = Room(4, 2)"
   ]
  },
  {
   "cell_type": "code",
   "execution_count": 106,
   "id": "84951d88",
   "metadata": {},
   "outputs": [],
   "source": [
    "b.add_room(r1)\n",
    "b.add_room(r2)\n",
    "b.add_room(r3)\n",
    "b.add_room(r4)\n",
    "b.add_room(r5)\n",
    "b.add_room(r6)"
   ]
  },
  {
   "cell_type": "code",
   "execution_count": 107,
   "id": "f391829a",
   "metadata": {},
   "outputs": [
    {
     "name": "stdout",
     "output_type": "stream",
     "text": [
      "1 size & 1 doors room\n",
      "2 size & 1 doors room\n",
      "5 size & 3 doors room\n",
      "3 size & 2 doors room\n",
      "2 size & 1 doors room\n",
      "4 size & 2 doors room\n"
     ]
    }
   ],
   "source": [
    "b.show_current_rooms()"
   ]
  },
  {
   "cell_type": "code",
   "execution_count": 108,
   "id": "21905e9a",
   "metadata": {},
   "outputs": [
    {
     "name": "stdout",
     "output_type": "stream",
     "text": [
      "1 size & 1 doors room boom!\n",
      "2 size & 1 doors room boom!\n",
      "5 size & 3 doors room boom!\n",
      "3 size & 2 doors room boom!\n",
      "2 size & 1 doors room boom!\n",
      "4 size & 2 doors room boom!\n",
      "Susheela Building building boom!\n"
     ]
    }
   ],
   "source": [
    "b.destroy()"
   ]
  },
  {
   "cell_type": "code",
   "execution_count": null,
   "id": "c144a612",
   "metadata": {},
   "outputs": [],
   "source": []
  }
 ],
 "metadata": {
  "kernelspec": {
   "display_name": "Python 3 (ipykernel)",
   "language": "python",
   "name": "python3"
  },
  "language_info": {
   "codemirror_mode": {
    "name": "ipython",
    "version": 3
   },
   "file_extension": ".py",
   "mimetype": "text/x-python",
   "name": "python",
   "nbconvert_exporter": "python",
   "pygments_lexer": "ipython3",
   "version": "3.9.18"
  }
 },
 "nbformat": 4,
 "nbformat_minor": 5
}
